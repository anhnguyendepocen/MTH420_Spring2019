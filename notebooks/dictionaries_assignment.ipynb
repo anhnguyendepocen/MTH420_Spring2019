{
 "cells": [
  {
   "cell_type": "markdown",
   "metadata": {},
   "source": [
    "## Dictionaries assignment"
   ]
  },
  {
   "cell_type": "code",
   "execution_count": null,
   "metadata": {},
   "outputs": [],
   "source": [
    "import re\n",
    "import numpy as np\n",
    "import scipy as sc\n",
    "import pandas as pd\n",
    "import matplotlib.pyplot as plt\n",
    "import seaborn as sns\n",
    "%matplotlib inline"
   ]
  },
  {
   "cell_type": "code",
   "execution_count": null,
   "metadata": {},
   "outputs": [],
   "source": [
    "import markdown as md"
   ]
  },
  {
   "cell_type": "markdown",
   "metadata": {},
   "source": [
    "### Python Dictionaries\n",
    "\n",
    "One of the most useful data structures in python is the dictionary  \n",
    "A dictionary can be specified as a sequence of key and value pairs surrounded by curly brackets:  \n",
    "\n",
    "{key:value,key:value,...,key:value}  \n",
    "\n",
    "For example, the code below defines a dictionary that maps students to groups."
   ]
  },
  {
   "cell_type": "code",
   "execution_count": null,
   "metadata": {},
   "outputs": [],
   "source": [
    "d = {'Tim':2,'Laura':2,'Sydney':2,'Lirna':1,'Anne':1,'Kaylee':1}\n",
    "print(d)"
   ]
  },
  {
   "cell_type": "markdown",
   "metadata": {},
   "source": [
    "### You can use a dictionary as a lookup table\n",
    "\n",
    "Supply the key in square brackets after the dictionary name  \n",
    "\n",
    "This returns the dictionary element matching that key"
   ]
  },
  {
   "cell_type": "code",
   "execution_count": null,
   "metadata": {},
   "outputs": [],
   "source": [
    "print(d['Sydney'])"
   ]
  },
  {
   "cell_type": "markdown",
   "metadata": {},
   "source": [
    "### You can obtain the keys as a python list\n",
    "\n",
    "The keys() function returns the dictionary's keys as a list"
   ]
  },
  {
   "cell_type": "code",
   "execution_count": null,
   "metadata": {},
   "outputs": [],
   "source": [
    "print(d.keys())"
   ]
  },
  {
   "cell_type": "markdown",
   "metadata": {},
   "source": [
    "### You can use the keys list to iterate over the dictionary contents\n",
    "\n",
    "Since the key is a string and the value is an integer, if we want to print them both with one print command we have to convert the value with the str() function.\n",
    "\n",
    "When working with strings, the '+' operator means 'concatenate'\n",
    "\n",
    "The print statement constructs a string consisting of the key followed by four blank spaces followed by the group number (converted to a string), then prints the string."
   ]
  },
  {
   "cell_type": "code",
   "execution_count": null,
   "metadata": {},
   "outputs": [],
   "source": [
    "for key in d.keys():\n",
    "    print(key + '   ' + str(d[key]))"
   ]
  },
  {
   "cell_type": "markdown",
   "metadata": {},
   "source": [
    "### Values can be any python object\n",
    "\n",
    "The value elements are objects, so they can be any type.  \n",
    "\n",
    "You can construct a hierarchical lookup table by defining the values of a dictionary as dictionaries themselves\n",
    "\n",
    "The values do not have to all be of the same type\n",
    "\n",
    "Let's replace the 'Tim' value in our dictionary with another dictionary:"
   ]
  },
  {
   "cell_type": "code",
   "execution_count": null,
   "metadata": {},
   "outputs": [],
   "source": [
    "d['Tim'] = {'First':1,'Second':2}\n",
    "print(d)"
   ]
  },
  {
   "cell_type": "markdown",
   "metadata": {},
   "source": [
    "### A name lookup table for the Lahman databank\n",
    "\n",
    "The Lahman databank contains first and last names only in the People table.  \n",
    "\n",
    "Other tables contain only the playerID field.\n",
    "\n",
    "Your task is to construct a dictionary having playerID as the key and a second dictionary containing the first and last names of the player as the value. "
   ]
  },
  {
   "cell_type": "markdown",
   "metadata": {},
   "source": [
    "### Read the Lahman databank people file\n",
    "\n",
    "You will probably need to tailor the path string for your computer"
   ]
  },
  {
   "cell_type": "code",
   "execution_count": null,
   "metadata": {},
   "outputs": [],
   "source": [
    "people = pd.read_csv(\"../../data/baseballdatabank-master/core/People.csv\")   "
   ]
  },
  {
   "cell_type": "code",
   "execution_count": null,
   "metadata": {},
   "outputs": [],
   "source": [
    "people.tail()"
   ]
  },
  {
   "cell_type": "markdown",
   "metadata": {},
   "source": [
    "### List the column names in the people dataframe"
   ]
  },
  {
   "cell_type": "code",
   "execution_count": null,
   "metadata": {},
   "outputs": [],
   "source": [
    "people.columns"
   ]
  },
  {
   "cell_type": "markdown",
   "metadata": {},
   "source": [
    "### Convert the people dataframe to a dictionary\n",
    "\n",
    "Actually, the result is a dictionary whose values are themselves dictionaries.  \n",
    "\n",
    "The keys of the highest level dictionary are column names.\n",
    "\n",
    "The keys of the second level dictionary are row numbers.\n",
    "\n",
    "You can refer to the second level dictionary for a particular key, say 'playerID', as:  \n",
    "\n",
    "people_dict['playerID']\n",
    "\n",
    "hint: you probably want to iterate over the keys of a second level dictionary.  All of the values in a row will have the same keys for the second level dictionaries."
   ]
  },
  {
   "cell_type": "code",
   "execution_count": null,
   "metadata": {},
   "outputs": [],
   "source": [
    "people_dict = people.to_dict()"
   ]
  },
  {
   "cell_type": "code",
   "execution_count": null,
   "metadata": {},
   "outputs": [],
   "source": [
    "people_dict"
   ]
  },
  {
   "cell_type": "code",
   "execution_count": null,
   "metadata": {},
   "outputs": [],
   "source": [
    "people_dict['playerID']"
   ]
  },
  {
   "cell_type": "code",
   "execution_count": null,
   "metadata": {},
   "outputs": [],
   "source": []
  }
 ],
 "metadata": {
  "kernelspec": {
   "display_name": "Python 3",
   "language": "python",
   "name": "python3"
  },
  "language_info": {
   "codemirror_mode": {
    "name": "ipython",
    "version": 3
   },
   "file_extension": ".py",
   "mimetype": "text/x-python",
   "name": "python",
   "nbconvert_exporter": "python",
   "pygments_lexer": "ipython3",
   "version": "3.7.2"
  }
 },
 "nbformat": 4,
 "nbformat_minor": 2
}
